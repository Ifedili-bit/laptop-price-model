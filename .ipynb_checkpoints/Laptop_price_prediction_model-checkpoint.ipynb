{
 "cells": [
  {
   "cell_type": "code",
   "execution_count": 289,
   "id": "013e0695-46c1-4ccd-a7a1-d4cc3ac59c92",
   "metadata": {},
   "outputs": [],
   "source": [
    "import numpy as np\n",
    "import pandas as pd\n",
    "import matplotlib.pyplot as plt\n",
    "from sklearn.preprocessing import StandardScaler\n",
    "from sklearn.model_selection import train_test_split\n",
    "\n",
    "# 1. Load and prepare data\n",
    "data = pd.read_csv(\"laptop_prices.csv\")\n",
    "data = data.dropna().drop_duplicates()\n",
    "X = data.drop(\"Price ($)\", axis=1)\n",
    "y = data[\"Price ($)\"]\n",
    "\n",
    "X = pd.get_dummies(X)\n",
    "\n",
    "X_train, X_temp, y_train, y_temp = train_test_split(X, y, test_size = 0.4, random_state = 42)\n",
    "\n",
    "X_dev, X_test, y_dev, y_test = train_test_split(X_temp, y_temp, test_size = 0.5, random_state = 42)\n",
    "\n",
    "scaler = StandardScaler()\n",
    "scaler.fit(X_train)\n",
    "X_train_scaled = scaler.transform(X_train)\n",
    "X_dev_scaled = scaler.transform(X_dev)\n",
    "X_test_scaled = scaler.transform(X_test)"
   ]
  },
  {
   "cell_type": "code",
   "execution_count": 291,
   "id": "f51d058d-3f98-451a-be7f-ada1305a6dd8",
   "metadata": {},
   "outputs": [],
   "source": [
    "def model(x, w, b):\n",
    "    f_wb = np.dot(x, w) + b\n",
    "    return f_wb"
   ]
  },
  {
   "cell_type": "code",
   "execution_count": 158,
   "id": "aa4efb19-e308-4aaf-9680-a5092af17cdf",
   "metadata": {},
   "outputs": [],
   "source": [
    "def cost_function(X, y, w, b):\n",
    "    m = X.shape[0]\n",
    "    predictions = model(X, w, b)\n",
    "    errors = predictions - y\n",
    "    return (1/(2*m)) * np.sum(errors ** 2)"
   ]
  },
  {
   "cell_type": "code",
   "execution_count": 242,
   "id": "552832ff-9db9-4583-a4a0-b3246bfac918",
   "metadata": {},
   "outputs": [],
   "source": [
    "import numpy as np\n",
    "\n",
    "def gradient_descent(X, y, w_init, b_init, learning_rate, epochs, lambda_reg=1):\n",
    "    w = w_init.copy()\n",
    "    b = b_init\n",
    "    m = X.shape[0]\n",
    "    cost_history = []\n",
    "\n",
    "    for epoch in range(epochs):\n",
    "        y_pred = model(X, w, b)  # Make sure model() is defined\n",
    "        \n",
    "        # Add regularization term to dw\n",
    "        dw = (1/m) * np.dot(X.T, (y_pred - y)) + (lambda_reg/m) * w\n",
    "        db = (1/m) * np.sum(y_pred - y)  # Usually no regularization on bias\n",
    "\n",
    "        w -= learning_rate * dw\n",
    "        b -= learning_rate * db\n",
    "\n",
    "        # Regularized cost: add penalty to the original cost\n",
    "        cost = cost_function(X, y, w, b) + (lambda_reg / (2*m)) * np.sum(w**2)\n",
    "        cost_history.append(cost)\n",
    "\n",
    "        if epoch % 100 == 0:\n",
    "            print(f\"Epoch {epoch}: Cost = {cost:.4f}\")\n",
    "\n",
    "    return w, b, cost_history\n"
   ]
  },
  {
   "cell_type": "code",
   "execution_count": 244,
   "id": "3330f909-e79a-492c-a0e2-d165946401cf",
   "metadata": {},
   "outputs": [
    {
     "name": "stdout",
     "output_type": "stream",
     "text": [
      "Epoch 0: Cost = 3146434.9306\n",
      "Epoch 100: Cost = 489020.1342\n",
      "Epoch 200: Cost = 150673.6010\n",
      "Epoch 300: Cost = 106539.2278\n",
      "Epoch 400: Cost = 100698.5879\n",
      "\n",
      "Final parameters: w = [ 8.04242866e+02  8.75602348e+01  1.91824897e+00 -9.18809744e+00\n",
      " -7.24775109e+01  2.22192100e+02 -7.01077681e+01 -6.54556104e+01\n",
      " -6.17911495e+01 -7.62429069e+01  1.02251136e+02 -6.63348041e+01\n",
      "  1.55212686e+02 -7.10490776e+01 -2.08693375e+02 -1.02270931e+02\n",
      "  3.59667310e+01  2.89239104e+02 -2.19093539e+02 -1.08015838e+02\n",
      "  4.04110657e+01  2.81737875e+02 -1.17294416e+02  3.22234255e+01\n",
      "  2.77418737e+01  2.93035627e+01  2.61462049e+01  3.39112803e+01\n",
      "  3.49449428e+01 -2.06778348e+02  3.90191243e+01  3.44673723e+01\n",
      "  3.58984967e+01  2.79400001e+01 -2.67434110e+02 -1.46503359e+02\n",
      "  4.43473396e+01  3.66324839e+02 -1.18631105e+00  3.54322911e+00\n",
      " -1.90675020e-01 -2.19368517e+00], b = 2156.454281662413\n",
      "Final cost: 99921.1367\n"
     ]
    }
   ],
   "source": [
    "w_init = np.zeros(X.shape[1])\n",
    "b_init = 0\n",
    "learning_rate = 0.01\n",
    "epochs = 500\n",
    "w_final, b_final, history = gradient_descent(X_train_scaled, y_train, w_init, b_init, learning_rate, epochs)\n",
    "print(f\"\\nFinal parameters: w = {w_final}, b = {b_final}\")\n",
    "print(f\"Final cost: {history[-1]:.4f}\")"
   ]
  },
  {
   "cell_type": "code",
   "execution_count": 246,
   "id": "f69c065d-e53a-4e23-8929-f46505edd011",
   "metadata": {},
   "outputs": [
    {
     "data": {
      "image/png": "[encoded data removed]",
      "text/plain": [
       "<Figure size 640x480 with 1 Axes>"
      ]
     },
     "metadata": {},
     "output_type": "display_data"
    }
   ],
   "source": [
    "plt.plot(history)\n",
    "plt.xlabel(\"Epochs\")\n",
    "plt.ylabel(\"Cost\")\n",
    "plt.title(\"Convergence of Gradient Descent\")\n",
    "plt.show()"
   ]
  },
  {
   "cell_type": "code",
   "execution_count": 267,
   "id": "9b238ee1-5d5b-4fc3-92a1-3bc90373e34e",
   "metadata": {},
   "outputs": [
    {
     "name": "stdout",
     "output_type": "stream",
     "text": [
      "Training Cost (J_train): 99825.6811\n",
      "Dev Cost (J_dev): 114389.9785\n",
      "Difference: 14564.2974\n",
      "⚠ Acceptable performance - Watch for overfitting\n"
     ]
    }
   ],
   "source": [
    "# Calculate costs\n",
    "J_train = cost_function(X_train_scaled, y_train, w_final, b_final)\n",
    "J_dev = cost_function(X_dev_scaled, y_dev, w_final, b_final)\n",
    "\n",
    "print(f\"Training Cost (J_train): {J_train:.4f}\")\n",
    "print(f\"Dev Cost (J_dev): {J_dev:.4f}\")\n",
    "print(f\"Difference: {abs(J_train - J_dev):.4f}\")\n",
    "\n",
    "# Interpretation\n",
    "if abs(J_train - J_dev) < 0.1 and J_train < 0.5:\n",
    "    print(\"✅ Good performance - Model is generalizing well\")\n",
    "elif J_train < J_dev * 1.5:\n",
    "    print(\"⚠ Acceptable performance - Watch for overfitting\")\n",
    "else:\n",
    "    print(\"❌ Potential overfitting - Training cost much lower than dev cost\")"
   ]
  },
  {
   "cell_type": "code",
   "execution_count": 269,
   "id": "d55363e7-b1ba-408b-8a8c-5524e5f62e6a",
   "metadata": {},
   "outputs": [
    {
     "name": "stdout",
     "output_type": "stream",
     "text": [
      "6962     1525.18\n",
      "7627      913.06\n",
      "4783     2330.56\n",
      "11511    3148.39\n",
      "9065     2417.84\n",
      "Name: Price ($), dtype: float64\n"
     ]
    }
   ],
   "source": [
    "print(y_train.head())"
   ]
  },
  {
   "cell_type": "code",
   "execution_count": null,
   "id": "0503bdf7-b8de-4899-af7d-eb99d90f1a40",
   "metadata": {},
   "outputs": [],
   "source": []
  },
  {
   "cell_type": "code",
   "execution_count": 263,
   "id": "7c4e83ba-aa37-43e0-8389-549d6b4b4b3b",
   "metadata": {},
   "outputs": [
    {
     "data": {
      "text/plain": [
       "array([1774.13719052,  583.89753701, 3162.80247157, ..., 2740.90519429,\n",
       "       3295.82583633, 1033.62253353])"
      ]
     },
     "execution_count": 263,
     "metadata": {},
     "output_type": "execute_result"
    }
   ],
   "source": [
    "model(X_train_scaled, w_final, b_final)"
   ]
  },
  {
   "cell_type": "code",
   "execution_count": null,
   "id": "6bac2b42-0e09-402d-b926-f9a63dfcce77",
   "metadata": {},
   "outputs": [],
   "source": []
  }
 ],
 "metadata": {
  "kernelspec": {
   "display_name": "Python [conda env:base] *",
   "language": "python",
   "name": "conda-base-py"
  },
  "language_info": {
   "codemirror_mode": {
    "name": "ipython",
    "version": 3
   },
   "file_extension": ".py",
   "mimetype": "text/x-python",
   "name": "python",
   "nbconvert_exporter": "python",
   "pygments_lexer": "ipython3",
   "version": "3.12.7"
  }
 },
 "nbformat": 4,
 "nbformat_minor": 5
}
